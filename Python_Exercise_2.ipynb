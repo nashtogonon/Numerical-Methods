{
  "nbformat": 4,
  "nbformat_minor": 0,
  "metadata": {
    "colab": {
      "name": "Python_Exercise_2.ipynb",
      "provenance": []
    },
    "kernelspec": {
      "name": "python3",
      "display_name": "Python 3"
    },
    "language_info": {
      "name": "python"
    }
  },
  "cells": [
    {
      "cell_type": "code",
      "metadata": {
        "colab": {
          "base_uri": "https://localhost:8080/"
        },
        "id": "2Nvz5Qikc5nU",
        "outputId": "682c4723-81ef-4709-f75c-567f6d126a84"
      },
      "source": [
        "import numpy as np\n",
        "\n",
        "a = np.array(([-5,0],\n",
        "            [4,1]))\n",
        "\n",
        "b = np.array(([6,-3],\n",
        "              [2,3]))\n",
        "\n",
        "sum = a+b\n",
        "dif1 = b-a\n",
        "dif2 = a-b\n",
        "\n",
        "print(\"The sum of a&b =\", sum)\n",
        "print(\"\\nThe sum of b-a =\", dif1)\n",
        "print(\"\\nThe sum of a-b =\", dif2)"
      ],
      "execution_count": 24,
      "outputs": [
        {
          "output_type": "stream",
          "name": "stdout",
          "text": [
            "The sum of a&b = [[ 1 -3]\n",
            " [ 6  4]]\n",
            "\n",
            "The sum of b-a = [[11 -3]\n",
            " [-2  2]]\n",
            "\n",
            "The sum of a-b = [[-11   3]\n",
            " [  2  -2]]\n"
          ]
        }
      ]
    }
  ]
}