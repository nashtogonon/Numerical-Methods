{
  "nbformat": 4,
  "nbformat_minor": 0,
  "metadata": {
    "colab": {
      "name": "Exercise1.ipynb",
      "provenance": [],
      "collapsed_sections": []
    },
    "kernelspec": {
      "name": "python3",
      "display_name": "Python 3"
    },
    "language_info": {
      "name": "python"
    }
  },
  "cells": [
    {
      "cell_type": "markdown",
      "metadata": {
        "id": "oUi6ZeT4OBuC"
      },
      "source": [
        ""
      ]
    },
    {
      "cell_type": "code",
      "metadata": {
        "colab": {
          "base_uri": "https://localhost:8080/"
        },
        "id": "HbeAgfsRN3W1",
        "outputId": "f1741493-745c-44bb-9516-bfe325e49ccc"
      },
      "source": [
        "Student_Name = input(\"Full Name: \")\n",
        "Program = input(\"Program: \")\n",
        "print(\"-------------\")\n",
        "pg = input(\"Prelim Grade: \")\n",
        "mg = input(\"Midterm Grade: \")\n",
        "fg = input(\"Final Grade: \")\n",
        "\n",
        "avg = (int(pg) * 0.3 + int(mg) * 0.3 + int(fg) * 0.4)\n",
        "\n",
        "print(\"\\nStudent Name: \" , Student_Name , \"\\nProgram:\" , Program ,\n",
        "      \"\\nAverage:\" , avg)"
      ],
      "execution_count": null,
      "outputs": [
        {
          "output_type": "stream",
          "text": [
            "Full Name: NashaUShfi\n",
            "Program: CPE\n",
            "-------------\n",
            "Prelim Grade: 87\n",
            "Midterm Grade: 87\n",
            "Final Grade: 67\n",
            "Student Name:  NashaUShfi \n",
            "Program: CPE \n",
            "Average: 79.0\n"
          ],
          "name": "stdout"
        }
      ]
    }
  ]
}