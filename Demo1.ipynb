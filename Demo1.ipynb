{
  "nbformat": 4,
  "nbformat_minor": 0,
  "metadata": {
    "colab": {
      "name": "Demo1.ipynb",
      "provenance": [],
      "collapsed_sections": []
    },
    "kernelspec": {
      "name": "python3",
      "display_name": "Python 3"
    },
    "language_info": {
      "name": "python"
    }
  },
  "cells": [
    {
      "cell_type": "code",
      "metadata": {
        "colab": {
          "base_uri": "https://localhost:8080/"
        },
        "id": "bJixI-s9fQNJ",
        "outputId": "8c01e66a-d457-4e8a-e6e0-4f85f00c4983"
      },
      "source": [
        "a = \"Nash \"\n",
        "b = \"Togonon\"\n",
        "print(a+b)"
      ],
      "execution_count": null,
      "outputs": [
        {
          "output_type": "stream",
          "name": "stdout",
          "text": [
            "Nash Togonon\n"
          ]
        }
      ]
    },
    {
      "cell_type": "code",
      "metadata": {
        "colab": {
          "base_uri": "https://localhost:8080/"
        },
        "id": "KlB5Jt8PfXmr",
        "outputId": "cbcdc52d-07eb-4938-b18a-29aa0403fdc8"
      },
      "source": [
        "a = \"fun\"\n",
        "print('Python programming is ' + a)"
      ],
      "execution_count": null,
      "outputs": [
        {
          "output_type": "stream",
          "name": "stdout",
          "text": [
            "Python programming is fun\n"
          ]
        }
      ]
    },
    {
      "cell_type": "code",
      "metadata": {
        "colab": {
          "base_uri": "https://localhost:8080/"
        },
        "id": "MsYPEX9NfZLC",
        "outputId": "58dcc254-0fcf-4faa-f6da-45d50f107a53"
      },
      "source": [
        "a = \"fun\"\n",
        "b = \"Python programming is \"\n",
        "c = b + a\n",
        "print(c)"
      ],
      "execution_count": null,
      "outputs": [
        {
          "output_type": "stream",
          "name": "stdout",
          "text": [
            "Python programming is fun\n"
          ]
        }
      ]
    },
    {
      "cell_type": "code",
      "metadata": {
        "colab": {
          "base_uri": "https://localhost:8080/"
        },
        "id": "C-A0rS00fwjq",
        "outputId": "6cf1f465-0f5d-471c-b299-46d661fae912"
      },
      "source": [
        "x = 34\n",
        "y = 35\n",
        "sum = x + y\n",
        "sum"
      ],
      "execution_count": null,
      "outputs": [
        {
          "output_type": "execute_result",
          "data": {
            "text/plain": [
              "69"
            ]
          },
          "metadata": {},
          "execution_count": 5
        }
      ]
    },
    {
      "cell_type": "code",
      "metadata": {
        "colab": {
          "base_uri": "https://localhost:8080/"
        },
        "id": "PDIcX_sbf-wC",
        "outputId": "f142add9-1fde-40be-a5de-7d4b91c59356"
      },
      "source": [
        "x = 1\n",
        "y = 3\n",
        "compare = x < y\n",
        "compare"
      ],
      "execution_count": null,
      "outputs": [
        {
          "output_type": "execute_result",
          "data": {
            "text/plain": [
              "True"
            ]
          },
          "metadata": {},
          "execution_count": 6
        }
      ]
    },
    {
      "cell_type": "code",
      "metadata": {
        "colab": {
          "base_uri": "https://localhost:8080/"
        },
        "id": "OjtbPt1jgA3j",
        "outputId": "e035ce4d-64aa-4084-9c03-2fc89d013fa8"
      },
      "source": [
        "a,b,c = 1, 2, 3\n",
        "c%=4\n",
        "c"
      ],
      "execution_count": null,
      "outputs": [
        {
          "output_type": "execute_result",
          "data": {
            "text/plain": [
              "3"
            ]
          },
          "metadata": {},
          "execution_count": 7
        }
      ]
    }
  ]
}