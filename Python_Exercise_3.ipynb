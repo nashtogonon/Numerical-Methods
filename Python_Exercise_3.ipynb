{
  "nbformat": 4,
  "nbformat_minor": 0,
  "metadata": {
    "colab": {
      "name": "Python Exercise 3.ipynb",
      "provenance": []
    },
    "kernelspec": {
      "name": "python3",
      "display_name": "Python 3"
    },
    "language_info": {
      "name": "python"
    }
  },
  "cells": [
    {
      "cell_type": "code",
      "metadata": {
        "colab": {
          "base_uri": "https://localhost:8080/"
        },
        "id": "4EIEACaBmlNy",
        "outputId": "e3d2c48e-2dc7-40a6-cc02-3a6d7539fad4"
      },
      "source": [
        "import numpy as np\n",
        "\n",
        "N = np.array ([[1,2,-1], \n",
        "               [4,6,-2],\n",
        "               [-1,3,3]])\n",
        "print(N)\n",
        "print(round(np.linalg.det(N)))"
      ],
      "execution_count": 4,
      "outputs": [
        {
          "output_type": "stream",
          "name": "stdout",
          "text": [
            "[[ 1  2 -1]\n",
            " [ 4  6 -2]\n",
            " [-1  3  3]]\n",
            "-14\n"
          ]
        }
      ]
    }
  ]
}